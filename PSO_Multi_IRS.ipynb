{
  "nbformat": 4,
  "nbformat_minor": 0,
  "metadata": {
    "colab": {
      "provenance": []
    },
    "kernelspec": {
      "name": "python3",
      "display_name": "Python 3"
    },
    "language_info": {
      "name": "python"
    }
  },
  "cells": [
    {
      "cell_type": "markdown",
      "source": [
        "**PSO FUNCTION**"
      ],
      "metadata": {
        "id": "4_l4Eg9otwOP"
      }
    },
    {
      "cell_type": "code",
      "source": [
        "import math\n",
        "import random\n",
        "\n",
        "def flatten(lst):\n",
        "    flat_list = []\n",
        "    for item in lst:\n",
        "        if isinstance(item, list):\n",
        "            flat_list.extend(flatten(item))\n",
        "        else:\n",
        "            flat_list.append(item)\n",
        "    return flat_list\n",
        "\n",
        "def unflatten(flat_list, structure):\n",
        "    flat_iter = iter(flat_list)\n",
        "    def helper(struct):\n",
        "        result = []\n",
        "        for elem in struct:\n",
        "            if isinstance(elem, list):\n",
        "                result.append(helper(elem))\n",
        "            else:\n",
        "                result.append(next(flat_iter))\n",
        "        return result\n",
        "    return helper(structure)\n",
        "\n",
        "def pso_function(parameter_values, bounds, n_particles, m_iterations, inertia, cognitive, social):\n",
        "\n",
        "    print(\"PSO Algorithm Started\")\n",
        "\n",
        "    num_particles = n_particles\n",
        "    max_iterations = m_iterations\n",
        "    w = inertia  # inertia weight\n",
        "    c1 = cognitive  # cognitive constant\n",
        "    c2 = social  # social constant\n",
        "\n",
        "    para = flatten(parameter_values)\n",
        "    len_para = len(para)\n",
        "    update_bounds = flatten(bounds)\n",
        "\n",
        "\n",
        "    particles = []\n",
        "    velocities = []\n",
        "    pbest = []\n",
        "    gbest = None\n",
        "    gbest_value = -float('inf')\n",
        "    iteration_best_values = []\n",
        "\n",
        "    for _ in range(num_particles):\n",
        "        particle = [random.uniform(bounds[i][0], bounds[i][1]) for i in range(len_para)]\n",
        "        temp_con = unflatten(particle, parameter_values)\n",
        "        while (conditions(temp_con) == False):\n",
        "            particle = [random.uniform(bounds[i][0], bounds[i][1]) for i in range(len_para)]\n",
        "            temp_con = unflatten(particle, parameter_values)\n",
        "        particles.append(particle)\n",
        "        velocities.append([0] * (len_para))\n",
        "        pbest.append(particle[:])\n",
        "\n",
        "    # PSO loop\n",
        "    for iter in range(max_iterations):\n",
        "        iteration_best_value = -float('inf')\n",
        "        for i in range(num_particles):\n",
        "            current_position = particles[i]\n",
        "            temp = unflatten(current_position, parameter_values)\n",
        "            fitness = objective_function(temp)\n",
        "\n",
        "            # Update personal best\n",
        "            temp = unflatten(pbest[i], parameter_values)\n",
        "            if fitness > objective_function(temp):\n",
        "                pbest[i] = current_position[:]\n",
        "\n",
        "            # Update global best\n",
        "            if fitness > gbest_value:\n",
        "                gbest = current_position[:]\n",
        "                gbest_value = fitness\n",
        "\n",
        "            # Update iteration best value\n",
        "            if fitness > iteration_best_value:\n",
        "                iteration_best_value = fitness\n",
        "\n",
        "        # Record the best value found in this iteration\n",
        "        iteration_best_values.append(iteration_best_value)\n",
        "\n",
        "        # Update velocities and particles\n",
        "        for i in range(num_particles):\n",
        "            for j in range(len_para):\n",
        "                new_velocity = (w * velocities[i][j] +\n",
        "                                    c1 * random.random() * (pbest[i][j] - particles[i][j]) +\n",
        "                                    c2 * random.random() * (gbest[j] - particles[i][j]))\n",
        "                new_position = particles[i][j] + new_velocity\n",
        "\n",
        "                new_position = max(min(new_position, update_bounds[j][1]), update_bounds[j][0])\n",
        "\n",
        "                # Update only if the new position satisfies the condition\n",
        "                particles[i][j] = new_position\n",
        "                velocities[i][j] = new_velocity\n",
        "\n",
        "                temp_con = unflatten(particles[i], parameter_values)\n",
        "                if not conditions(temp_con):\n",
        "                    particles[i][j] -= new_velocity\n",
        "                    velocities[i][j] = 0\n",
        "        #Printing\n",
        "        if (iter % 100 == 0) or iter == (max_iterations-1):\n",
        "                print(f\"Iteration {iter}: Value = {iteration_best_values[iter]}\")\n",
        "\n",
        "    return iteration_best_values"
      ],
      "metadata": {
        "id": "dx-5_nxydh5P"
      },
      "execution_count": null,
      "outputs": []
    },
    {
      "cell_type": "markdown",
      "source": [
        "**MAIN PROGRAM**"
      ],
      "metadata": {
        "id": "wHkwTARzt1ng"
      }
    },
    {
      "cell_type": "code",
      "source": [
        "import numpy as np\n",
        "import random\n",
        "import math\n",
        "import matplotlib.pyplot as plt"
      ],
      "metadata": {
        "id": "4oZfuRNLL56w"
      },
      "execution_count": 2,
      "outputs": []
    },
    {
      "cell_type": "markdown",
      "source": [
        "# Initialize simulation parameters"
      ],
      "metadata": {
        "id": "RF5tPD6Dm8BN"
      }
    },
    {
      "cell_type": "code",
      "source": [
        "M = 1  # No. of antennas on BS\n",
        "N = 8  # No. IRS elements\n",
        "K = 1  # No.of transmit antennas at the relay device\n",
        "K_dash = 1 # No. of transmit antennas at the redcap (IoT) device\n",
        "q = 1 # No. of Quantization bits. 1,2,..., Q\n",
        "m = 1 # m=1,2,..., 2^n-1\n",
        "\n",
        "####################### Reflection co-efficient matrix for IRS_1 (I1) #########################\n",
        "zeta_I1 = [random.uniform(0, 1) for _ in range(N)]\n",
        "theta_I1 = [random.uniform(0, 2*math.pi*m/2**q) for _ in range(N)]\n",
        "\n",
        "### Only one phase coefficient matrix is assumed as it is NOT STAR IRS ###\n",
        "phi_I1_value = [math.sqrt(zeta) * math.exp(theta) for zeta, theta in zip(zeta_I1, theta_I1)]\n",
        "\n",
        "### Generate a complex matrix ###\n",
        "phi_I1 = np.zeros((N, N), dtype=complex)\n",
        "np.fill_diagonal(phi_I1, phi_I1_value)\n",
        "\n",
        "####################### Reflection co-efficient matrix for IRS_2 (I2) #########################\n",
        "zeta_I2 = [random.uniform(0, 1) for _ in range(N)]\n",
        "theta_I2 = [random.uniform(0, 2*math.pi*m/2**q) for _ in range(N)]\n",
        "\n",
        "### Only one phase coefficient matrix is assumed as it is NOT STAR IRS ###\n",
        "phi_I2_value = [math.sqrt(zeta) * math.exp(theta) for zeta, theta in zip(zeta_I2, theta_I2)]\n",
        "\n",
        "### Generate a complex matrix ###\n",
        "phi_I2 = np.zeros((N, N), dtype=complex)\n",
        "np.fill_diagonal(phi_I2, phi_I2_value)\n",
        "\n",
        "####################### Reflection co-efficient matrix for IRS_B (IB) #########################\n",
        "zeta_IB = [random.uniform(0, 1) for _ in range(N)]\n",
        "theta_IB = [random.uniform(0, 2*math.pi*m/2**q) for _ in range(N)]\n",
        "\n",
        "### Only one phase coefficient matrix is assumed as it is NOT STAR IRS ###\n",
        "phi_IB_value = [math.sqrt(zeta) * math.exp(theta) for zeta, theta in zip(zeta_IB, theta_IB)]\n",
        "\n",
        "### Generate a complex matrix ###\n",
        "phi_IB = np.zeros((N, N), dtype=complex)\n",
        "np.fill_diagonal(phi_IB, phi_IB_value)\n",
        "\n",
        "#### Initialize PSO parameters ####\n",
        "n_particles = 30\n",
        "m_iterations = 200\n",
        "inertia= 0.5\n",
        "cognitive = 0.5\n",
        "social = 0.5\n",
        "\n",
        "### Bounds ###\n",
        "#TODO: Check what is the formula\n",
        "bounds = [(0,1)]*(2*M+1)+[(0,1)]*K+[(0,1)]*N+[(0,2*math.pi)]*(2*N)\n",
        "\n",
        "### Rate Thresholds ###\n",
        "R_11_th = R_12_th = R_21_th = R_22_th = 0.05\n",
        "\n",
        "### Power Thresholds ###\n",
        "P_11_max = P_12_max = P_21_max = P_22_max = 10**(9/10)\n",
        "\n",
        "### Distance (in m) ###\n",
        "D_11_I1 = 20\n",
        "D_12_I1 = 30\n",
        "D_21_I2 = 15\n",
        "D_22_I2 = 21\n",
        "D_1_IB = 5\n",
        "D_2_IB = 9\n",
        "D_I1_1 = 4\n",
        "D_I2_2 = 4\n",
        "D_IB_B = 10\n",
        "\n",
        "### Noise ###\n",
        "sigma_1 = 1\n",
        "sigma_2 = 1\n",
        "sigma_b = 1\n",
        "\n",
        "\n"
      ],
      "metadata": {
        "id": "wuP32pCfYQjD"
      },
      "execution_count": 13,
      "outputs": []
    },
    {
      "cell_type": "markdown",
      "source": [
        "# Parameters to Optimize"
      ],
      "metadata": {
        "id": "hE-jpqtFnUgc"
      }
    },
    {
      "cell_type": "code",
      "source": [
        "W_0_real = [random.uniform(0, 1) for _ in range(M)]\n",
        "W_0_imaginary = [random.uniform(0, 1) for _ in range(M)]\n",
        "P_s0 = [random.uniform(0, 1)]\n",
        "\n",
        "alpha_K0 = [random.uniform(0, 1)]\n",
        "\n",
        "zeta_r = [random.uniform(0, 1) for _ in range(N)]\n",
        "theta_r = [random.uniform(0, 2*math.pi) for _ in range(N)]\n",
        "theta_t = [random.uniform(0, 2*math.pi) for _ in range(N)]\n",
        "\n",
        "### Initialize parameters to optimize ###\n",
        "par = W_0_real, W_0_imaginary, P_s0, alpha_K0, zeta_r, theta_r, theta_t"
      ],
      "metadata": {
        "id": "0fGBqxnslm80"
      },
      "execution_count": null,
      "outputs": []
    },
    {
      "cell_type": "markdown",
      "source": [
        "## Generate Channel with Path Loss"
      ],
      "metadata": {
        "id": "IGbBQNLIuJGz"
      }
    },
    {
      "cell_type": "code",
      "source": [
        "def generate_channel(N, K, path_loss):\n",
        "\n",
        "    h = (1/np.sqrt(2)) * (np.random.randn(N, K) + 1j * np.random.randn(N, K))\n",
        "    h_normalized = h / np.linalg.norm(h, axis=0)\n",
        "    h = path_loss * h_normalized\n",
        "\n",
        "    return h"
      ],
      "metadata": {
        "id": "tbzh-xnnhUqm"
      },
      "execution_count": 11,
      "outputs": []
    },
    {
      "cell_type": "markdown",
      "source": [
        "## Get Direct Path Loss"
      ],
      "metadata": {
        "id": "QGvMHnB5uOjp"
      }
    },
    {
      "cell_type": "code",
      "source": [
        "def get_pathloss_direct(d):\n",
        "   ### QUES: Is there an indirect path loss as well? #TODO find any other 3GPP compliant model\n",
        "   noise = -120\n",
        "   pl = 32.6 + 36.7 * math.log10(d)\n",
        "   ### Convert to Transmit SINR ###\n",
        "   return math.sqrt(10**((- noise - pl) / 10))"
      ],
      "metadata": {
        "id": "4H0yZPscVsv5"
      },
      "execution_count": 8,
      "outputs": []
    },
    {
      "cell_type": "code",
      "source": [
        "def up_get_ini(alpha_K0, alpha_K_dash0, P_s0, W_0, h_as, h_ak, sigma_k, h_ac, h_sc, sigma_c, K_dash, sigma_k_dash, h_ak_dash, h_sk, h_ik, h_si, h_sk_dash, h_ik_dash, varphi_r, varphi_t):\n",
        "\n",
        "    SINRKK = 0.0\n",
        "    SINRKK_dash = 0.0\n",
        "    SINRCC = 0.0\n",
        "\n",
        "    k = 0\n",
        "    k_dash = 0\n",
        "\n",
        "    SINRKK = (alpha_K0 * P_s0 * (np.abs(h_sk[k][0] + np.dot(np.dot(h_ik[k],varphi_r),h_si).item()))**2) / (P_s0 * (np.abs(h_sk[k][0] + np.dot(np.dot(h_ik[k],varphi_r),h_si).item()))**2 * (alpha_K_dash0) + (np.abs(np.dot(W_0,h_ak[k])))**2 + sigma_k**2)\n",
        "\n",
        "    SINRCC = (np.abs(np.dot(W_0,h_ac)))**2 / (P_s0 * np.abs(h_sc)**2 + sigma_c**2)\n",
        "\n",
        "    SINRKK_dash = (alpha_K_dash0 * P_s0 * (np.abs(h_sk_dash[k_dash][0] + np.dot(np.dot(h_ik_dash[k_dash],varphi_t),h_si).item()))**2) / ((np.abs(np.dot(W_0,h_ak_dash[k_dash])))**2 + sigma_k_dash**2)\n",
        "\n",
        "    rho = 0.01\n",
        "    P_I =  np.abs(np.dot(W_0,h_as))**2 + (rho**2 * P_s0)\n",
        "\n",
        "    return SINRCC, SINRKK, SINRKK_dash, P_I"
      ],
      "metadata": {
        "id": "Ig7VVnuZVqQy"
      },
      "execution_count": null,
      "outputs": []
    },
    {
      "cell_type": "code",
      "source": [
        "# Ques: Do all IRS have equal number of reflecting elements?\n",
        "h_11_I1 = generate_channel(1, N, get_pathloss_direct(D_11_I1))\n",
        "h_12_I1 = generate_channel(1, N, get_pathloss_direct(D_12_I1))\n",
        "h_I1_1 = generate_channel(N, 1, get_pathloss_direct(D_I1_1))\n",
        "h_1_IB = generate_channel(1, N, get_pathloss_direct(D_1_IB))\n",
        "\n",
        "h_21_I2 = generate_channel(1, N, get_pathloss_direct(D_21_I2))\n",
        "h_22_I2 = generate_channel(1, N, get_pathloss_direct(D_22_I2))\n",
        "h_I2_2 = generate_channel(N, 1, get_pathloss_direct(D_I2_2))\n",
        "h_2_IB = generate_channel(1, N, get_pathloss_direct(D_2_IB))\n",
        "\n",
        "h_IB_B = generate_channel(N, 1, get_pathloss_direct(D_IB_B))\n",
        "\n",
        "## Ques: When conjugate and when transpose\n",
        "\n",
        "# h_as= generate_channel(M,1,PL_as);\n",
        "# h_ac= generate_channel(M,1,PL_ac);\n",
        "# h_ak= generate_channel(M,K,PL_ak);\n",
        "# h_ak = h_ak.transpose() #For own Easy\n",
        "# h_sk = generate_channel(1,K,PL_sk);\n",
        "# h_sk = np.conjugate(h_sk.transpose())\n",
        "\n",
        "# h_ik= generate_channel(N,K,PL_ik);\n",
        "#\n",
        "# h_ik = np.conjugate(h_ik.transpose())\n",
        "\n",
        "# h_si= generate_channel(1,N,PL_si);\n",
        "# h_si = h_si.transpose()\n",
        "\n",
        "# h_sc= generate_channel(1,1,PL_sc);\n",
        "# h_ak_dash= generate_channel(M,K_dash,PL_ak_dash);\n",
        "# h_ak_dash = h_ak_dash.transpose() #For own Easy\n",
        "# h_sk_dash= generate_channel(1,K_dash,PL_sk_dash);\n",
        "# h_sk_dash = np.conjugate(h_sk_dash.transpose())\n",
        "# h_ik_dash= generate_channel(N,K_dash,PL_ik_dash);\n",
        "# h_ik_dash = np.conjugate(h_ik_dash.transpose())\n",
        "\n",
        "\n"
      ],
      "metadata": {
        "id": "y1NXYi0fhX7-",
        "outputId": "747be029-26e3-47b3-82c1-7776a7645e13",
        "colab": {
          "base_uri": "https://localhost:8080/"
        }
      },
      "execution_count": 15,
      "outputs": [
        {
          "output_type": "stream",
          "name": "stdout",
          "text": [
            "[[-47.0669107 -83.75615227j  87.32270343-40.06410603j\n",
            "  -63.29950954+72.27419469j  56.29170149+77.85647995j\n",
            "  -58.29669164+76.36676548j -30.34573753-91.15658693j\n",
            "   93.18136822-23.40127651j  16.7180244 +94.60916862j]]\n"
          ]
        }
      ]
    },
    {
      "cell_type": "code",
      "source": [
        "def get_channel():\n",
        "  H_1_B, H_2_B, H_11_1, H_12_1, H_21_2, H_22_2 = 0.0\n",
        "  return H_1_B, H_2_B, H_11_1, H_12_1, H_21_2, H_22_2\n"
      ],
      "metadata": {
        "id": "4y_La4NM0NZz"
      },
      "execution_count": null,
      "outputs": []
    },
    {
      "cell_type": "code",
      "source": [
        "def conditions(para):\n",
        "\n",
        "    rate_D11, rate_D12, rate_D21, rate_D22 = get_rate()\n",
        "    H_1_B, H_2_B, H_11_1, H_12_1, H_21_2, H_22_2 = get_channel()\n",
        "\n",
        "    condition_1 = (rate_D11 >= R_11_th) and (rate_D12 >= R_12_th) and (rate_D21 >= R_21_th) and (rate_D22 >= R_22_th)\n",
        "    condition_2 = H_1_B > H_2_B\n",
        "    condition_3 = H_11_1 > H_12_1\n",
        "    condition_4 = H_21_2 > H_22_2\n",
        "    condition_5 = #TODO: What to initialize power with?\n",
        "    condition_6 = #TODO: What to initialize power with?\n",
        "\n",
        "    if (condition_1 and condition_3 and condition_4 and condition_5 and condition_6):\n",
        "        return True\n",
        "    return False"
      ],
      "metadata": {
        "id": "JRGbA2Gwhcx_"
      },
      "execution_count": null,
      "outputs": []
    },
    {
      "cell_type": "code",
      "source": [
        "def get_SINR_vals():\n",
        "  SINR_D11_R1, SINR_D11_B, SINR_D12_R1, SINR_D12_B, SINR_D21_R2, SINR_D21_R2, SINR_D22_R2, SINR_D22_R = 0.0\n",
        "\n",
        "\n",
        "  return  SINR_D11_R1, SINR_D11_B, SINR_D12_R1, SINR_D12_B, SINR_D21_R2, SINR_D21_R2, SINR_D22_R2, SINR_D22_R"
      ],
      "metadata": {
        "id": "8td7xitO5kGf"
      },
      "execution_count": null,
      "outputs": []
    },
    {
      "cell_type": "code",
      "source": [
        "def get_rate():\n",
        "    ### Get SINR ###\n",
        "    SINR_D11_R1, SINR_D11_B, SINR_D12_R1, SINR_D12_B, SINR_D21_R2, SINR_D21_R2, SINR_D22_R2, SINR_D22_R2 = get_SINR_vals()\n",
        "    ### Rate of D11 ###\n",
        "    rate_D11 = math.log2(1 +  np.min(SINR_D11_R1, SINR_D11_B ))\n",
        "    ### Rate of D12 ###\n",
        "    rate_D12 = math.log2(1 +  np.min(SINR_D12_R1, SINR_D12_B ))\n",
        "    ### Rate of D21 ###\n",
        "    rate_D21 = math.log2(1 +  np.min(SINR_D21_R2, SINR_D21_R2 ))\n",
        "    ### Rate of D22 ###\n",
        "    rate_D22 = math.log2(1 +  np.min(SINR_D22_R2, SINR_D22_R2 ))\n",
        "    return rate_D11, rate_D12, rate_D21, rate_D22"
      ],
      "metadata": {
        "id": "Ih-MldBMvjO7"
      },
      "execution_count": null,
      "outputs": []
    },
    {
      "cell_type": "code",
      "source": [
        "def objective_function(para):\n",
        "\n",
        "    rate_D11, rate_D12, rate_D21, rate_D22 = get_rate()\n",
        "    return rate_D11 + rate_D11 + rate_D21 +  rate_D22"
      ],
      "metadata": {
        "id": "9SEK6x4khdds"
      },
      "execution_count": null,
      "outputs": []
    },
    {
      "cell_type": "code",
      "source": [
        "a = pso_function(par, bounds, n_particles, m_iterations, inertia, cognitive, social)"
      ],
      "metadata": {
        "colab": {
          "base_uri": "https://localhost:8080/"
        },
        "id": "5o_FvxavhfEo",
        "outputId": "1787bc17-a6fc-4a08-ca4c-23a10056eeb5"
      },
      "execution_count": null,
      "outputs": [
        {
          "output_type": "stream",
          "name": "stdout",
          "text": [
            "PSO Algorithm Started\n",
            "Iteration 0: Value = 19.649591727421107\n",
            "Iteration 100: Value = 22.69740546574584\n",
            "Iteration 199: Value = 22.697414519601182\n"
          ]
        }
      ]
    },
    {
      "cell_type": "code",
      "source": [
        "plt.plot(np.arange(len(a)), a, label='PSO')\n",
        "plt.title('Optimization')\n",
        "plt.xlabel('Iteration')\n",
        "plt.ylabel('Sum Rate')\n",
        "plt.legend()\n",
        "plt.tight_layout()\n",
        "plt.show()"
      ],
      "metadata": {
        "colab": {
          "base_uri": "https://localhost:8080/",
          "height": 487
        },
        "id": "5iAfGLUYje4b",
        "outputId": "c94aa666-d56c-48a0-ae24-c039d6522457"
      },
      "execution_count": null,
      "outputs": [
        {
          "output_type": "display_data",
          "data": {
            "text/plain": [
              "<Figure size 640x480 with 1 Axes>"
            ],
            "image/png": "[encoded data removed]"
          },
          "metadata": {}
        }
      ]
    },
    {
      "cell_type": "code",
      "source": [],
      "metadata": {
        "id": "l8_kBf0jmcLC"
      },
      "execution_count": null,
      "outputs": []
    }
  ]
}