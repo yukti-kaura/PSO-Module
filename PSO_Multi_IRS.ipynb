{
  "nbformat": 4,
  "nbformat_minor": 0,
  "metadata": {
    "colab": {
      "provenance": []
    },
    "kernelspec": {
      "name": "python3",
      "display_name": "Python 3"
    },
    "language_info": {
      "name": "python"
    }
  },
  "cells": [
    {
      "cell_type": "markdown",
      "source": [
        "**PSO FUNCTION**"
      ],
      "metadata": {
        "id": "4_l4Eg9otwOP"
      }
    },
    {
      "cell_type": "code",
      "source": [
        "import math\n",
        "import random\n",
        "\n",
        "def flatten(lst):\n",
        "    flat_list = []\n",
        "    for item in lst:\n",
        "        if isinstance(item, list):\n",
        "            flat_list.extend(flatten(item))\n",
        "        else:\n",
        "            flat_list.append(item)\n",
        "    return flat_list\n",
        "\n",
        "def unflatten(flat_list, structure):\n",
        "    flat_iter = iter(flat_list)\n",
        "    def helper(struct):\n",
        "        result = []\n",
        "        for elem in struct:\n",
        "            if isinstance(elem, list):\n",
        "                result.append(helper(elem))\n",
        "            else:\n",
        "                result.append(next(flat_iter))\n",
        "        return result\n",
        "    return helper(structure)\n",
        "\n",
        "def pso_function(parameter_values, bounds, n_particles, m_iterations, inertia, cognitive, social):\n",
        "\n",
        "    print(\"PSO Algorithm Started\")\n",
        "\n",
        "    num_particles = n_particles\n",
        "    max_iterations = m_iterations\n",
        "    w = inertia  # inertia weight\n",
        "    c1 = cognitive  # cognitive constant\n",
        "    c2 = social  # social constant\n",
        "\n",
        "    para = flatten(parameter_values)\n",
        "    len_para = len(para)\n",
        "    update_bounds = flatten(bounds)\n",
        "\n",
        "\n",
        "    particles = []\n",
        "    velocities = []\n",
        "    pbest = []\n",
        "    gbest = None\n",
        "    gbest_value = -float('inf')\n",
        "    iteration_best_values = []\n",
        "\n",
        "    for _ in range(num_particles):\n",
        "        particle = [random.uniform(bounds[i][0], bounds[i][1]) for i in range(len_para)]\n",
        "        temp_con = unflatten(particle, parameter_values)\n",
        "        while (conditions(temp_con) == False):\n",
        "            particle = [random.uniform(bounds[i][0], bounds[i][1]) for i in range(len_para)]\n",
        "            temp_con = unflatten(particle, parameter_values)\n",
        "        particles.append(particle)\n",
        "        velocities.append([0] * (len_para))\n",
        "        pbest.append(particle[:])\n",
        "\n",
        "    # PSO loop\n",
        "    for iter in range(max_iterations):\n",
        "        iteration_best_value = -float('inf')\n",
        "        for i in range(num_particles):\n",
        "            current_position = particles[i]\n",
        "            temp = unflatten(current_position, parameter_values)\n",
        "            fitness = objective_function(temp)\n",
        "\n",
        "            # Update personal best\n",
        "            temp = unflatten(pbest[i], parameter_values)\n",
        "            if fitness > objective_function(temp):\n",
        "                pbest[i] = current_position[:]\n",
        "\n",
        "            # Update global best\n",
        "            if fitness > gbest_value:\n",
        "                gbest = current_position[:]\n",
        "                gbest_value = fitness\n",
        "\n",
        "            # Update iteration best value\n",
        "            if fitness > iteration_best_value:\n",
        "                iteration_best_value = fitness\n",
        "\n",
        "        # Record the best value found in this iteration\n",
        "        iteration_best_values.append(iteration_best_value)\n",
        "\n",
        "        # Update velocities and particles\n",
        "        for i in range(num_particles):\n",
        "            for j in range(len_para):\n",
        "                new_velocity = (w * velocities[i][j] +\n",
        "                                    c1 * random.random() * (pbest[i][j] - particles[i][j]) +\n",
        "                                    c2 * random.random() * (gbest[j] - particles[i][j]))\n",
        "                new_position = particles[i][j] + new_velocity\n",
        "\n",
        "                new_position = max(min(new_position, update_bounds[j][1]), update_bounds[j][0])\n",
        "\n",
        "                # Update only if the new position satisfies the condition\n",
        "                particles[i][j] = new_position\n",
        "                velocities[i][j] = new_velocity\n",
        "\n",
        "                temp_con = unflatten(particles[i], parameter_values)\n",
        "                if not conditions(temp_con):\n",
        "                    particles[i][j] -= new_velocity\n",
        "                    velocities[i][j] = 0\n",
        "        #Printing\n",
        "        if (iter % 100 == 0) or iter == (max_iterations-1):\n",
        "                print(f\"Iteration {iter}: Value = {iteration_best_values[iter]}\")\n",
        "\n",
        "    return iteration_best_values"
      ],
      "metadata": {
        "id": "dx-5_nxydh5P"
      },
      "execution_count": 9,
      "outputs": []
    },
    {
      "cell_type": "markdown",
      "source": [
        "**MAIN PROGRAM**"
      ],
      "metadata": {
        "id": "wHkwTARzt1ng"
      }
    },
    {
      "cell_type": "code",
      "source": [
        "import numpy as np\n",
        "import random\n",
        "import math\n",
        "import matplotlib.pyplot as plt"
      ],
      "metadata": {
        "id": "4oZfuRNLL56w"
      },
      "execution_count": 10,
      "outputs": []
    },
    {
      "cell_type": "markdown",
      "source": [
        "# Initialize simulation parameters"
      ],
      "metadata": {
        "id": "RF5tPD6Dm8BN"
      }
    },
    {
      "cell_type": "code",
      "source": [
        "M = 1  # No. of antennas on BS\n",
        "N = N1 = N2 = NB  = 8  # No. IRS elements\n",
        "K = 1  # No.of transmit antennas at the relay device\n",
        "K_dash = 1 # No. of transmit antennas at the redcap (IoT) device\n",
        "q = 1 # No. of Quantization bits. 1,2,..., Q\n",
        "m = 1 # m=1,2,..., 2^n-1\n",
        "\n",
        "####################### Reflection co-efficient matrix for IRS_1 (I1) #########################\n",
        "zeta_I1 = [random.uniform(0, 1) for _ in range(N)]\n",
        "theta_I1 = [random.uniform(0, 2*math.pi) for _ in range(N)]\n",
        "\n",
        "### Only one phase coefficient matrix is assumed as it is NOT STAR IRS ###\n",
        "phi_I1_value = [math.sqrt(zeta) * math.exp(theta) for zeta, theta in zip(zeta_I1, theta_I1)]\n",
        "\n",
        "### Generate a complex matrix ###\n",
        "phi_I1 = np.zeros((N, N), dtype=complex)\n",
        "np.fill_diagonal(phi_I1, phi_I1_value)\n",
        "\n",
        "####################### Reflection co-efficient matrix for IRS_2 (I2) #########################\n",
        "zeta_I2 = [random.uniform(0, 1) for _ in range(N)]\n",
        "theta_I2 = [random.uniform(0, 2*math.pi) for _ in range(N)]\n",
        "\n",
        "### Only one phase coefficient matrix is assumed as it is NOT STAR IRS ###\n",
        "phi_I2_value = [math.sqrt(zeta) * math.exp(theta) for zeta, theta in zip(zeta_I2, theta_I2)]\n",
        "\n",
        "### Generate a complex matrix ###\n",
        "phi_I2 = np.zeros((N, N), dtype=complex)\n",
        "np.fill_diagonal(phi_I2, phi_I2_value)\n",
        "\n",
        "####################### Reflection co-efficient matrix for IRS_B (IB) #########################\n",
        "zeta_IB = [random.uniform(0, 1) for _ in range(N)]\n",
        "theta_IB = [random.uniform(0, 2*math.pi) for _ in range(N)]\n",
        "\n",
        "### Only one phase coefficient matrix is assumed as it is NOT STAR IRS ###\n",
        "phi_IB_value = [math.sqrt(zeta) * math.exp(theta) for zeta, theta in zip(zeta_IB, theta_IB)]\n",
        "\n",
        "### Generate a complex matrix ###\n",
        "phi_IB = np.zeros((N, N), dtype=complex)\n",
        "np.fill_diagonal(phi_IB, phi_IB_value)\n",
        "\n",
        "#### Initialize PSO parameters ####\n",
        "n_particles = 30\n",
        "m_iterations = 200\n",
        "inertia= 0.5\n",
        "cognitive = 0.5\n",
        "social = 0.5\n",
        "\n",
        "### Bounds ###\n",
        "#TODO: Check what is the formula\n",
        "bounds = [(0,1)]*(2*M+1)+[(0,1)]*K+[(0,1)]*N+[(0,2*math.pi)]*(2*N)\n",
        "\n",
        "### Rate Thresholds ###\n",
        "R_11_th = R_12_th = R_21_th = R_22_th = 0.05\n",
        "\n",
        "### Power Thresholds ###\n",
        "P_11_max = P_12_max = P_21_max = P_22_max = 0.5\n",
        "P_dash_11_max = P_dash_12_max = P_dash_21_max = P_dash_22_max = 1\n",
        "\n",
        "### Distance (in m) ###\n",
        "D_11_I1 = 20\n",
        "D_12_I1 = 30\n",
        "D_21_I2 = 15\n",
        "D_22_I2 = 21\n",
        "D_1_IB = 5\n",
        "D_2_IB = 9\n",
        "D_I1_1 = 4\n",
        "D_I2_2 = 4\n",
        "D_IB_B = 10\n",
        "D_2_I1 = 8\n",
        "D_1_I2 = 8\n",
        "\n",
        "### Noise  ###\n",
        "### Ques: Is this initialization correct?\n",
        "\n",
        "# -120db : TODO Assign linear value\n",
        "sigma_1 = 1\n",
        "sigma_2 = 1\n",
        "sigma_b = 1\n",
        "\n",
        "### Power at devices D11, D12, D21, D22 and R1, R2 ###\n",
        "\n",
        "P_11 = [random.uniform(0, 0.5)]\n",
        "P_12 = [random.uniform(0, 0.5)]\n",
        "P_21 = [random.uniform(0, 0.5)]\n",
        "P_22 = [random.uniform(0, 0.5)]\n",
        "\n",
        "### Check with Justin ###\n",
        "P_dash_11 = [random.uniform(0, 1)]\n",
        "P_dash_12 = [random.uniform(0, 1)]\n",
        "P_dash_21 = [random.uniform(0, 1)]\n",
        "P_dash_22 = [random.uniform(0, 1)]\n",
        "\n",
        "H_1_B = H_2_B = H_11_1 = H_12_1 = H_21_2 = H_22_2 = 0.0\n",
        "SINR_R1_D1 = SINR_D11_B = SINR_D12_R1 = SINR_D12_B = SINR_D21_R2 = SINR_D21_R2 = SINR_D22_R2 = SINR_D22_R = 0.0\n",
        "rate_D11 =  rate_D12 = rate_D21 = rate_D22 = 0.0\n",
        "\n",
        "### Check with Justin ###\n",
        "rho = 0.1\n"
      ],
      "metadata": {
        "id": "wuP32pCfYQjD"
      },
      "execution_count": 11,
      "outputs": []
    },
    {
      "cell_type": "markdown",
      "source": [
        "# Parameters to Optimize"
      ],
      "metadata": {
        "id": "hE-jpqtFnUgc"
      }
    },
    {
      "cell_type": "code",
      "source": [
        "### We have Power and IRS Phase shifts to optimize ###\n",
        "# P_s0 = [random.uniform(0, 1)]\n",
        "\n",
        "zeta_r = [random.uniform(0, 1) for _ in range(N)]\n",
        "theta_r = [random.uniform(0, 2*math.pi) for _ in range(N)]\n",
        "\n",
        "### Initialize parameters to optimize ###\n",
        "## Ques: How to define power?\n",
        "par =  zeta_I1, theta_I1, zeta_I2, theta_I2, zeta_IB, theta_IB"
      ],
      "metadata": {
        "id": "0fGBqxnslm80"
      },
      "execution_count": 12,
      "outputs": []
    },
    {
      "cell_type": "markdown",
      "source": [
        "## Generate Channel with Path Loss"
      ],
      "metadata": {
        "id": "IGbBQNLIuJGz"
      }
    },
    {
      "cell_type": "code",
      "source": [
        "def generate_channel(N, K, path_loss):\n",
        "    h = (1/np.sqrt(2)) * (np.random.randn(N, K) + 1j * np.random.randn(N, K))\n",
        "    h_normalized = h / np.linalg.norm(h, axis=0)\n",
        "    h = path_loss * h_normalized\n",
        "    return h"
      ],
      "metadata": {
        "id": "tbzh-xnnhUqm"
      },
      "execution_count": 13,
      "outputs": []
    },
    {
      "cell_type": "markdown",
      "source": [
        "## Get Direct Path Loss"
      ],
      "metadata": {
        "id": "QGvMHnB5uOjp"
      }
    },
    {
      "cell_type": "code",
      "source": [
        "def get_pathloss_direct(d):\n",
        "   ### QUES: Is there an indirect path loss as well? #TODO find any other 3GPP compliant model\n",
        "\n",
        "   pl = 0\n",
        "   if(d != 0):\n",
        "    32.6 + 36.7 * math.log10(d)\n",
        "   ### Convert to Transmit SINR ###\n",
        "   return math.sqrt(10**((- pl) / 10))"
      ],
      "metadata": {
        "id": "4H0yZPscVsv5"
      },
      "execution_count": 14,
      "outputs": []
    },
    {
      "cell_type": "markdown",
      "source": [
        "### Calculate Channel"
      ],
      "metadata": {
        "id": "iR14feaRKKqR"
      }
    },
    {
      "cell_type": "code",
      "source": [
        "### Calculate Channel ###\n",
        "# Ques: Do all IRS have equal number of reflecting elements?\n",
        "h_I1_1 = generate_channel(N, 1, get_pathloss_direct(D_I1_1))\n",
        "h_11_I1 = generate_channel(1, N, get_pathloss_direct(D_11_I1))\n",
        "h_12_I1 = generate_channel(1, N, get_pathloss_direct(D_12_I1))\n",
        "\n",
        "h_I2_2 = generate_channel(N, 1, get_pathloss_direct(D_I2_2))\n",
        "h_21_I2 = generate_channel(1, N, get_pathloss_direct(D_21_I2))\n",
        "h_22_I2 = generate_channel(1, N, get_pathloss_direct(D_22_I2))\n",
        "\n",
        "h_IB_B = generate_channel(N, 1, get_pathloss_direct(D_IB_B))\n",
        "h_2_IB = generate_channel(1, N, get_pathloss_direct(D_2_IB))\n",
        "h_1_IB = generate_channel(1, N, get_pathloss_direct(D_1_IB))\n",
        "\n",
        "\n",
        "### Interference link path loss\n",
        "\n",
        "### Check with Justin\n",
        "### Relay 1 ###\n",
        "h_IB_1 = generate_channel(N, 1, get_pathloss_direct(D_1_IB)) ### Channel is reciprocal ###\n",
        "# ### Relay 2 ###\n",
        "h_IB_2 = generate_channel(N, 1, get_pathloss_direct(D_2_IB))\n",
        "\n",
        "### Interference  from IRS 1 (I1) to Relay 2 (R2)\n",
        "h_I1_2 = generate_channel(N, 1, get_pathloss_direct(D_2_I1))\n",
        "### Interference  from IRS 2 (I2) to Relay 1 (R1)\n",
        "h_I2_1 = generate_channel(N, 1, get_pathloss_direct(D_1_I2))\n",
        "\n",
        "\n",
        "## Duplexing interference ###\n",
        "h_1_1 =  generate_channel(1, 1, 1)\n",
        "print(h_1_1)\n",
        "h_2_2 =  generate_channel(1, 1, 1)\n",
        "print(h_2_2)"
      ],
      "metadata": {
        "id": "y1NXYi0fhX7-",
        "outputId": "d8e6e0f4-d6a7-46f7-8932-309eef76af21",
        "colab": {
          "base_uri": "https://localhost:8080/"
        }
      },
      "execution_count": 15,
      "outputs": [
        {
          "output_type": "stream",
          "name": "stdout",
          "text": [
            "[[-0.97837064-0.20685961j]]\n",
            "[[-0.65803194-0.75299002j]]\n"
          ]
        }
      ]
    },
    {
      "cell_type": "markdown",
      "source": [
        "### Calculate Channel Gain"
      ],
      "metadata": {
        "id": "bdB9h5SSKFgn"
      }
    },
    {
      "cell_type": "code",
      "source": [
        "### Calculate Channel Gain ###\n",
        "\n",
        "# print(h_IB_B.shape)\n",
        "# print(np.conjugate(h_IB_B).transpose().shape)\n",
        "# print(phi_IB.shape)\n",
        "# print(h_1_IB.shape)\n",
        "\n",
        "H_1_B = np.dot(np.dot(np.conjugate(h_IB_B).transpose(),phi_IB),h_1_IB.transpose())\n",
        "# print(H_1_B.shape)\n",
        "# a = np.abs (H_1_B.item())**2\n",
        "# print(a)\n",
        "\n",
        "H_2_B = np.dot(np.dot(np.conjugate(h_IB_B).transpose(),phi_IB),h_2_IB.transpose())\n",
        "H_11_1 = np.dot(np.dot(np.conjugate(h_I1_1).transpose(),phi_I1),h_11_I1.transpose())\n",
        "H_12_1 = np.dot(np.dot(np.conjugate(h_I1_1).transpose(),phi_I1),h_12_I1.transpose())\n",
        "H_21_2 = np.dot(np.dot(np.conjugate(h_I2_2).transpose(),phi_I2),h_21_I2.transpose())\n",
        "H_22_2 = np.dot(np.dot(np.conjugate(h_I2_2).transpose(),phi_I2),h_22_I2.transpose())\n",
        "\n",
        "### Interference Link Channel Gain ###\n",
        "H_2_1 = np.dot(np.dot(np.conjugate(h_IB_1).transpose(),phi_IB),h_2_IB.transpose())\n",
        "H_1_2 = np.dot(np.dot(np.conjugate(h_IB_2).transpose(),phi_IB),h_1_IB.transpose())\n",
        "H_22_1 = np.dot(np.dot(np.conjugate(h_I2_1).transpose(),phi_I2),h_22_I2.transpose())\n",
        "H_21_1 = np.dot(np.dot(np.conjugate(h_I2_1).transpose(),phi_I2),h_21_I2.transpose())\n",
        "H_12_2 = np.dot(np.dot(np.conjugate(h_I1_2).transpose(),phi_I1),h_12_I1.transpose())\n",
        "H_11_2 = np.dot(np.dot(np.conjugate(h_I1_2).transpose(),phi_I1),h_11_I1.transpose())\n"
      ],
      "metadata": {
        "id": "4y_La4NM0NZz"
      },
      "execution_count": 33,
      "outputs": []
    },
    {
      "cell_type": "code",
      "source": [
        "### Calculate SINR Values ###\n",
        "## Check with Justin h_1_1\n",
        "F_1 = (P_21*np.abs(H_22_1.item())**2) + ((P_dash_21 + P_dash_22)*np.abs(H_2_1.item())**2 + np.abs(h_1_1.item())**2*rho**2*(P_dash_11 + P_dash_12))\n",
        "\n",
        "# SINR at R1 to detect symbol of D11 considering D12 as interference assuming H11_1 > H12_1\n",
        "SINR_R1_D11 = (P_11*np.abs (H_11_1.item())**2)/(P_12*np.abs(H_12_1.item())**2 + F_1 + sigma_1**2)\n",
        "# SINR at R1 to detect symbol of D12 considering D11 as interference assuming D11 has already been decoded\n",
        "SINR_R1_D12 = (P_12*np.abs (H_12_1.item())**2)/(F_1 + sigma_1**2)\n",
        "\n",
        "# SINR at R2\n",
        "F_2 = P_11*np.abs(H_11_2.item())**2 + P_12*np.abs(H_12_2.item())**2 + (P_dash_11 + P_dash_12)*np.abs(H_1_2.item())**2 + np.abs(h_2_2.item())**2*rho**2*(P_dash_21 + P_dash_12)\n",
        "\n",
        "SINR_R2_D21 = P_21*np.abs(H_21_2.item())**2/(P_22*np.abs(H_22_2.item())**2 + F_2 + sigma_2**2)\n",
        "SINR_R2_D22 = P_22*np.abs(H_22_2.item())**2/(F_2+sigma_2**2)\n",
        "\n",
        "\n",
        "# SINR at Base Station B\n",
        "SINR_B_D11 = P_dash_11 * np.abs(H_1_B.item())**2/(P_dash_12*np.abs(H_1_B.item())**2 + (P_dash_21 + P_dash_22)*np.abs(H_2_B.item())**2 + sigma_b**2)\n",
        "SINR_B_D12 = P_dash_12 * np.abs(H_1_B.item())**2/((P_dash_21 + P_dash_22) * np.abs(H_2_B.item())**2 + sigma_b**2)\n",
        "SINR_B_D21 = P_dash_21 * np.abs(H_2_B.item())**2/(P_dash_22)*np.abs(H_2_B.item())**2 + sigma_b**2\n",
        "SINR_B_D22 = P_dash_22 * np.abs(H_2_B.item())**2/sigma_b**2"
      ],
      "metadata": {
        "id": "8td7xitO5kGf",
        "outputId": "07c4d636-a587-46fe-e799-36d140ad6404",
        "colab": {
          "base_uri": "https://localhost:8080/",
          "height": 211
        }
      },
      "execution_count": 36,
      "outputs": [
        {
          "output_type": "error",
          "ename": "TypeError",
          "evalue": "can't multiply sequence by non-int of type 'numpy.float64'",
          "traceback": [
            "\u001b[0;31m---------------------------------------------------------------------------\u001b[0m",
            "\u001b[0;31mTypeError\u001b[0m                                 Traceback (most recent call last)",
            "\u001b[0;32m<ipython-input-36-19fde1a89599>\u001b[0m in \u001b[0;36m<cell line: 3>\u001b[0;34m()\u001b[0m\n\u001b[1;32m      1\u001b[0m \u001b[0;31m### Calculate SINR Values ###\u001b[0m\u001b[0;34m\u001b[0m\u001b[0;34m\u001b[0m\u001b[0m\n\u001b[1;32m      2\u001b[0m \u001b[0;31m## Check with Justin h_1_1\u001b[0m\u001b[0;34m\u001b[0m\u001b[0;34m\u001b[0m\u001b[0m\n\u001b[0;32m----> 3\u001b[0;31m \u001b[0mF_1\u001b[0m \u001b[0;34m=\u001b[0m \u001b[0;34m(\u001b[0m\u001b[0mP_21\u001b[0m\u001b[0;34m*\u001b[0m\u001b[0mnp\u001b[0m\u001b[0;34m.\u001b[0m\u001b[0mabs\u001b[0m\u001b[0;34m(\u001b[0m\u001b[0mH_22_1\u001b[0m\u001b[0;34m.\u001b[0m\u001b[0mitem\u001b[0m\u001b[0;34m(\u001b[0m\u001b[0;34m)\u001b[0m\u001b[0;34m)\u001b[0m\u001b[0;34m**\u001b[0m\u001b[0;36m2\u001b[0m\u001b[0;34m)\u001b[0m\u001b[0;34m\u001b[0m\u001b[0;34m\u001b[0m\u001b[0m\n\u001b[0m\u001b[1;32m      4\u001b[0m \u001b[0;31m#  + ((P_dash_21 + P_dash_22)*np.abs(H_2_1.item())**2 + np.abs(h_1_1.item())**2*rho**2*(P_dash_11 + P_dash_12))\u001b[0m\u001b[0;34m\u001b[0m\u001b[0;34m\u001b[0m\u001b[0m\n\u001b[1;32m      5\u001b[0m \u001b[0;34m\u001b[0m\u001b[0m\n",
            "\u001b[0;31mTypeError\u001b[0m: can't multiply sequence by non-int of type 'numpy.float64'"
          ]
        }
      ]
    },
    {
      "cell_type": "code",
      "source": [
        "\n",
        "### Get SINR ###\n",
        "### Rate of D11 ###\n",
        "rate_D11 = math.log2(1 +  np.min(SINR_R1_D1, SINR_D11_B ))\n",
        "### Rate of D12 ###\n",
        "rate_D12 = math.log2(1 +  np.min(SINR_D12_R1, SINR_D12_B ))\n",
        "### Rate of D21 ###\n",
        "rate_D21 = math.log2(1 +  np.min(SINR_D21_R2, SINR_D21_R2 ))\n",
        "### Rate of D22 ###\n",
        "rate_D22 = math.log2(1 +  np.min(SINR_D22_R2, SINR_D22_R2 ))\n"
      ],
      "metadata": {
        "id": "Ih-MldBMvjO7"
      },
      "execution_count": null,
      "outputs": []
    },
    {
      "cell_type": "code",
      "source": [
        "def conditions(para):\n",
        "    condition_1 = (rate_D11 >= R_11_th) and (rate_D12 >= R_12_th) and (rate_D21 >= R_21_th) and (rate_D22 >= R_22_th)\n",
        "    ### Test absolute value of channels ###\n",
        "    condition_2 = H_1_B > H_2_B\n",
        "    condition_3 = H_11_1 > H_12_1\n",
        "    condition_4 = H_21_2 > H_22_2\n",
        "    condition_5 = P_11 < P_11_max and P_22 < P_22_max and P_21 < P_21_max and P_12 < P_12_max\n",
        "    condition_6 = P_dash_11 < P_dash_11_max and P_dash_22 < P_dash_22_max and P_21 < P_dash_21_max and P_dash_12 < P_dash_12_max\n",
        "\n",
        "    if (condition_1 and condition_2 and condition_3 and condition_4 and condition_5 and condition_6):\n",
        "        return True\n",
        "    return False"
      ],
      "metadata": {
        "id": "Pv1GJvYXDdAN"
      },
      "execution_count": null,
      "outputs": []
    },
    {
      "cell_type": "code",
      "source": [
        "def objective_function(para):\n",
        "   return rate_D11 + rate_D11 + rate_D21 +  rate_D22"
      ],
      "metadata": {
        "id": "9SEK6x4khdds"
      },
      "execution_count": null,
      "outputs": []
    },
    {
      "cell_type": "code",
      "source": [
        "a = pso_function(par, bounds, n_particles, m_iterations, inertia, cognitive, social)"
      ],
      "metadata": {
        "id": "5o_FvxavhfEo"
      },
      "execution_count": null,
      "outputs": []
    },
    {
      "cell_type": "code",
      "source": [
        "plt.plot(np.arange(len(a)), a, label='PSO')\n",
        "plt.title('Optimization')\n",
        "plt.xlabel('Iteration')\n",
        "plt.ylabel('Sum Rate')\n",
        "plt.legend()\n",
        "plt.tight_layout()\n",
        "plt.show()"
      ],
      "metadata": {
        "id": "5iAfGLUYje4b"
      },
      "execution_count": null,
      "outputs": []
    }
  ]
}